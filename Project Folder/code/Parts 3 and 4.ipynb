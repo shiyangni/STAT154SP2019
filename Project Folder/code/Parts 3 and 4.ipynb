{
 "cells": [
  {
   "cell_type": "markdown",
   "metadata": {},
   "source": [
    "## Splitting the Data"
   ]
  },
  {
   "cell_type": "code",
   "execution_count": 1,
   "metadata": {},
   "outputs": [
    {
     "name": "stderr",
     "output_type": "stream",
     "text": [
      "/Users/stellapark95/anaconda3/lib/python3.6/site-packages/sklearn/cross_validation.py:41: DeprecationWarning: This module was deprecated in version 0.18 in favor of the model_selection module into which all the refactored classes and functions are moved. Also note that the interface of the new CV iterators are different from that of this module. This module will be removed in 0.20.\n",
      "  \"This module will be removed in 0.20.\", DeprecationWarning)\n"
     ]
    }
   ],
   "source": [
    "import pandas as pd\n",
    "import numpy as np\n",
    "from sklearn import model_selection\n",
    "from sklearn.linear_model import LogisticRegression\n",
    "from sklearn import cross_validation\n",
    "from sklearn.model_selection import train_test_split"
   ]
  },
  {
   "cell_type": "code",
   "execution_count": 2,
   "metadata": {
    "collapsed": true
   },
   "outputs": [],
   "source": [
    "df1 = pd.read_table('image1.txt', delim_whitespace=True, header=None)\n",
    "df2 = pd.read_table('image2.txt', delim_whitespace=True, header=None)\n",
    "df3 = pd.read_table('image3.txt', delim_whitespace=True, header=None)\n",
    "\n"
   ]
  },
  {
   "cell_type": "code",
   "execution_count": 3,
   "metadata": {
    "collapsed": true
   },
   "outputs": [],
   "source": [
    "df1.columns = ['y', 'x', 'expert', 'ndai', 'sd', 'corr', 'df', 'cf', 'bf', 'af', 'an']\n",
    "df2.columns = ['y', 'x', 'expert', 'ndai', 'sd', 'corr', 'df', 'cf', 'bf', 'af', 'an']\n",
    "df3.columns = ['y', 'x', 'expert', 'ndai', 'sd', 'corr', 'df', 'cf', 'bf', 'af', 'an']"
   ]
  },
  {
   "cell_type": "code",
   "execution_count": 4,
   "metadata": {
    "collapsed": true
   },
   "outputs": [],
   "source": [
    "df1 = df1.loc[df1['expert']!=0,]\n",
    "df2 = df2.loc[df2['expert']!=0,]\n",
    "df3 = df3.loc[df3['expert']!=0,]"
   ]
  },
  {
   "cell_type": "markdown",
   "metadata": {},
   "source": [
    "### Split method 1"
   ]
  },
  {
   "cell_type": "code",
   "execution_count": 5,
   "metadata": {
    "collapsed": true
   },
   "outputs": [],
   "source": [
    "df1_q1 = df1.loc[(df1['x'] >= np.mean(df1['x'])) & (df1['y'] >= np.mean(df1['y']))]\n",
    "df1_q2 = df1.loc[(df1['x'] < np.mean(df1['x'])) & (df1['y'] >= np.mean(df1['y']))]\n",
    "df1_q3 = df1.loc[(df1['x'] < np.mean(df1['x'])) & (df1['y'] < np.mean(df1['y']))]\n",
    "df1_q4 = df1.loc[(df1['x'] >= np.mean(df1['x'])) & (df1['y'] < np.mean(df1['y']))]\n",
    "\n",
    "df1_q1_xtrain, df1_q1_xtest, df1_q1_ytrain, df1_q1_ytest = train_test_split(df1_q1.drop('expert', axis=1),\n",
    "                                                                           df1_q1['expert'],\n",
    "                                                                           test_size=0.2, random_state=42)\n",
    "df1_q2_xtrain, df1_q2_xtest, df1_q2_ytrain, df1_q2_ytest = train_test_split(df1_q2.drop('expert', axis=1),\n",
    "                                                                           df1_q2['expert'],\n",
    "                                                                           test_size=0.2, random_state=42)\n",
    "df1_q3_xtrain, df1_q3_xtest, df1_q3_ytrain, df1_q3_ytest = train_test_split(df1_q3.drop('expert', axis=1),\n",
    "                                                                           df1_q3['expert'],\n",
    "                                                                           test_size=0.2, random_state=42)\n",
    "df1_q4_xtrain, df1_q4_xtest, df1_q4_ytrain, df1_q4_ytest = train_test_split(df1_q4.drop('expert', axis=1),\n",
    "                                                                           df1_q4['expert'],\n",
    "                                                                           test_size=0.2, random_state=42)"
   ]
  },
  {
   "cell_type": "code",
   "execution_count": 6,
   "metadata": {
    "collapsed": true
   },
   "outputs": [],
   "source": [
    "df2_q1 = df2.loc[(df2['x'] >= np.mean(df2['x'])) & (df2['y'] >= np.mean(df2['y']))]\n",
    "df2_q2 = df2.loc[(df2['x'] < np.mean(df2['x'])) & (df2['y'] >= np.mean(df2['y']))]\n",
    "df2_q3 = df2.loc[(df2['x'] < np.mean(df2['x'])) & (df2['y'] < np.mean(df2['y']))]\n",
    "df2_q4 = df2.loc[(df2['x'] >= np.mean(df2['x'])) & (df2['y'] < np.mean(df2['y']))]\n",
    "\n",
    "df2_q1_xtrain, df2_q1_xtest, df2_q1_ytrain, df2_q1_ytest = train_test_split(df2_q1.drop('expert', axis=1),\n",
    "                                                                           df2_q1['expert'],\n",
    "                                                                           test_size=0.2, random_state=42)\n",
    "df2_q2_xtrain, df2_q2_xtest, df2_q2_ytrain, df2_q2_ytest = train_test_split(df2_q2.drop('expert', axis=1),\n",
    "                                                                           df2_q2['expert'],\n",
    "                                                                           test_size=0.2, random_state=42)\n",
    "df2_q3_xtrain, df2_q3_xtest, df2_q3_ytrain, df2_q3_ytest = train_test_split(df2_q3.drop('expert', axis=1),\n",
    "                                                                           df2_q3['expert'],\n",
    "                                                                           test_size=0.2, random_state=42)\n",
    "df2_q4_xtrain, df2_q4_xtest, df2_q4_ytrain, df2_q4_ytest = train_test_split(df2_q4.drop('expert', axis=1),\n",
    "                                                                           df2_q4['expert'],\n",
    "                                                                           test_size=0.2, random_state=42)"
   ]
  },
  {
   "cell_type": "code",
   "execution_count": 7,
   "metadata": {
    "collapsed": true
   },
   "outputs": [],
   "source": [
    "df3_q1 = df3.loc[(df3['x'] >= np.mean(df3['x'])) & (df3['y'] >= np.mean(df3['y']))]\n",
    "df3_q2 = df3.loc[(df3['x'] < np.mean(df3['x'])) & (df3['y'] >= np.mean(df3['y']))]\n",
    "df3_q3 = df3.loc[(df3['x'] < np.mean(df3['x'])) & (df3['y'] < np.mean(df3['y']))]\n",
    "df3_q4 = df3.loc[(df3['x'] >= np.mean(df3['x'])) & (df3['y'] < np.mean(df3['y']))]\n",
    "\n",
    "df3_q1_xtrain, df3_q1_xtest, df3_q1_ytrain, df3_q1_ytest = train_test_split(df3_q1.drop('expert', axis=1),\n",
    "                                                                           df3_q1['expert'],\n",
    "                                                                           test_size=0.2, random_state=42)\n",
    "df3_q2_xtrain, df3_q2_xtest, df3_q2_ytrain, df3_q2_ytest = train_test_split(df3_q2.drop('expert', axis=1),\n",
    "                                                                           df3_q2['expert'],\n",
    "                                                                           test_size=0.2, random_state=42)\n",
    "df3_q3_xtrain, df3_q3_xtest, df3_q3_ytrain, df3_q3_ytest = train_test_split(df3_q3.drop('expert', axis=1),\n",
    "                                                                           df3_q3['expert'],\n",
    "                                                                           test_size=0.2, random_state=42)\n",
    "df3_q4_xtrain, df3_q4_xtest, df3_q4_ytrain, df3_q4_ytest = train_test_split(df3_q4.drop('expert', axis=1),\n",
    "                                                                           df3_q4['expert'],\n",
    "                                                                           test_size=0.2, random_state=42)"
   ]
  },
  {
   "cell_type": "code",
   "execution_count": 8,
   "metadata": {
    "collapsed": true
   },
   "outputs": [],
   "source": [
    "xtrain = df1_q1_xtrain.append([df1_q2_xtrain, df1_q3_xtrain,df1_q4_xtrain,\n",
    "                               df2_q1_xtrain, df2_q2_xtrain, df2_q3_xtrain, df2_q4_xtrain,\n",
    "                               df3_q1_xtrain, df3_q2_xtrain, df3_q3_xtrain, df3_q4_xtrain], \n",
    "                              ignore_index=True)"
   ]
  },
  {
   "cell_type": "code",
   "execution_count": 9,
   "metadata": {
    "collapsed": true
   },
   "outputs": [],
   "source": [
    "ytrain = df1_q1_ytrain.append([df1_q2_ytrain, df1_q3_ytrain, df1_q4_ytrain,\n",
    "                               df2_q1_ytrain, df2_q2_ytrain, df2_q3_ytrain, df2_q4_ytrain,\n",
    "                               df3_q1_ytrain, df3_q2_ytrain, df3_q3_ytrain, df3_q4_ytrain], \n",
    "                              ignore_index=True)"
   ]
  },
  {
   "cell_type": "code",
   "execution_count": 10,
   "metadata": {
    "collapsed": true
   },
   "outputs": [],
   "source": [
    "xtest = df1_q1_xtest.append([df1_q2_xtest, df1_q3_xtest, df1_q4_xtest,\n",
    "                               df2_q1_xtest, df2_q2_xtest, df2_q3_xtest, df2_q4_xtest,\n",
    "                               df3_q1_xtest, df3_q2_xtest, df3_q3_xtest, df3_q4_xtest], \n",
    "                              ignore_index=True)"
   ]
  },
  {
   "cell_type": "code",
   "execution_count": 11,
   "metadata": {
    "collapsed": true
   },
   "outputs": [],
   "source": [
    "ytest = df1_q1_ytest.append([df1_q2_ytest, df1_q3_ytest, df1_q4_ytest,\n",
    "                               df2_q1_ytest, df2_q2_ytest, df2_q3_ytest, df2_q4_ytest,\n",
    "                               df3_q1_ytest, df3_q2_ytest, df3_q3_ytest, df3_q4_ytest], \n",
    "                              ignore_index=True)"
   ]
  },
  {
   "cell_type": "code",
   "execution_count": 12,
   "metadata": {
    "collapsed": true
   },
   "outputs": [],
   "source": [
    "X=pd.concat([xtrain,ytrain], axis=1).sample(50000)\n",
    "X_train = X.drop('expert', axis=1)\n",
    "y_train = X['expert']"
   ]
  },
  {
   "cell_type": "markdown",
   "metadata": {},
   "source": [
    "### Split method 2"
   ]
  },
  {
   "cell_type": "code",
   "execution_count": 13,
   "metadata": {
    "collapsed": true
   },
   "outputs": [],
   "source": [
    "train_2 = df1.append(df2, ignore_index=True)\n",
    "test = df3"
   ]
  },
  {
   "cell_type": "code",
   "execution_count": 14,
   "metadata": {
    "collapsed": true
   },
   "outputs": [],
   "source": [
    "train_2 = train_2.sample(50000)\n",
    "test_2 = test.sample(12500)"
   ]
  },
  {
   "cell_type": "code",
   "execution_count": 15,
   "metadata": {
    "collapsed": true
   },
   "outputs": [],
   "source": [
    "x_train_2 = train_2.drop('expert', axis=1)\n",
    "y_train_2 = train_2['expert']\n",
    "x_test_2 = test_2.drop('expert', axis=1)\n",
    "y_test_2 = test_2['expert']"
   ]
  },
  {
   "cell_type": "markdown",
   "metadata": {},
   "source": [
    "### 3a"
   ]
  },
  {
   "cell_type": "markdown",
   "metadata": {},
   "source": [
    "### 1. Logistic Regression"
   ]
  },
  {
   "cell_type": "markdown",
   "metadata": {},
   "source": [
    "**Assumptions for Logistic Regression**\n",
    "\n",
    "1. Target variable should be measured on a dichotomous scale\n",
    "2. There are one or more feature variables, which can be either continuous or categorical. \n",
    "3. The observations are independent and target variable has mutually exclusive and exuhastive categories. This means the model should have little or no multicollinearity.\n",
    "4. There is a linear relationship between any continuous feature variable and logit transformation of the target variable.\n",
    "\n",
    "**Assumptions in relation to our model**\n",
    "\n",
    "1. The target variable (expert label) is binary, -1 indicating cloud-free and 1 indicating cloudy.\n",
    "2. There are 8 features which are all continuous variables.\n",
    "3. The data collected is not iid because of the spatial correlation between data points. Therefore, the sophiticated split method according to different x and y coordinates was used to make the observations more independent and avoid the model from having high multicollinearity.\n",
    "4. When the logit odds are calculated, they are in linear relationship with the binary class labels."
   ]
  },
  {
   "cell_type": "code",
   "execution_count": 16,
   "metadata": {
    "collapsed": true
   },
   "outputs": [],
   "source": [
    "from sklearn import metrics\n",
    "from sklearn.model_selection import KFold\n",
    "from sklearn.metrics import log_loss\n"
   ]
  },
  {
   "cell_type": "markdown",
   "metadata": {},
   "source": [
    "**Split Method 1**"
   ]
  },
  {
   "cell_type": "code",
   "execution_count": 29,
   "metadata": {},
   "outputs": [
    {
     "name": "stdout",
     "output_type": "stream",
     "text": [
      "Fitting 5 folds for each of 10 candidates, totalling 50 fits\n"
     ]
    },
    {
     "name": "stderr",
     "output_type": "stream",
     "text": [
      "[Parallel(n_jobs=1)]: Done  50 out of  50 | elapsed:  4.8min finished\n"
     ]
    }
   ],
   "source": [
    "#Grid Search\n",
    "\n",
    "# since it will take about 4.3 hours to train the whole dataset, I will sample the train data to make\n",
    "# the size of the data smaller, for computational efficiency\n",
    "# This may increase the bias and decrease the variance of the dataset because the size gets smaller,\n",
    "# and we are sampling from the sample\n",
    "# The new training size will be 50000, which is about 30% of the whole training set. Takse about 6 minutes to train.\n",
    "\n",
    "from sklearn.model_selection import GridSearchCV\n",
    "\n",
    "\n",
    "logreg = LogisticRegression()\n",
    "\n",
    "# Create regularization penalty space\n",
    "penalty = ['l1', 'l2']\n",
    "# Create regularization hyperparameter space \n",
    "# C = Inverse of regularization strength; must be a positive float. \n",
    "C = np.logspace(0, 4, 5)\n",
    "# Create hyperparameter options\n",
    "hyperparameters = dict(C=C, penalty=penalty)\n",
    "\n",
    "clf = GridSearchCV(logreg, hyperparameters, cv=5, verbose=1)\n",
    "\n",
    "best_model = clf.fit(X_train, y_train)\n",
    "\n"
   ]
  },
  {
   "cell_type": "code",
   "execution_count": 31,
   "metadata": {},
   "outputs": [
    {
     "data": {
      "text/plain": [
       "GridSearchCV(cv=5, error_score='raise',\n",
       "       estimator=LogisticRegression(C=1.0, class_weight=None, dual=False, fit_intercept=True,\n",
       "          intercept_scaling=1, max_iter=100, multi_class='ovr', n_jobs=1,\n",
       "          penalty='l2', random_state=None, solver='liblinear', tol=0.0001,\n",
       "          verbose=0, warm_start=False),\n",
       "       fit_params=None, iid=True, n_jobs=1,\n",
       "       param_grid={'C': array([1.e+00, 1.e+01, 1.e+02, 1.e+03, 1.e+04]), 'penalty': ['l1', 'l2']},\n",
       "       pre_dispatch='2*n_jobs', refit=True, return_train_score='warn',\n",
       "       scoring=None, verbose=1)"
      ]
     },
     "execution_count": 31,
     "metadata": {},
     "output_type": "execute_result"
    }
   ],
   "source": [
    "best_model"
   ]
  },
  {
   "cell_type": "code",
   "execution_count": 32,
   "metadata": {
    "collapsed": true
   },
   "outputs": [],
   "source": [
    "log_reg = LogisticRegression(C=1, penalty='l2')"
   ]
  },
  {
   "cell_type": "code",
   "execution_count": 99,
   "metadata": {
    "collapsed": true
   },
   "outputs": [],
   "source": [
    "scores = []\n",
    "\n",
    "cv = KFold(n_splits=5, random_state=42, shuffle=False)\n",
    "\n",
    "for train_index, test_index in cv.split(X_train):\n",
    "\n",
    "    xtr, xte, ytr, yte = X_train.iloc[train_index], X_train.iloc[test_index], y_train.iloc[train_index], y_train.iloc[test_index]\n",
    "    log_reg.fit(xtr, ytr)\n",
    "    scores.append(log_reg.score(xte, yte))"
   ]
  },
  {
   "cell_type": "code",
   "execution_count": 102,
   "metadata": {},
   "outputs": [
    {
     "data": {
      "text/plain": [
       "[0.8908, 0.9004, 0.8969, 0.8914, 0.8978]"
      ]
     },
     "execution_count": 102,
     "metadata": {},
     "output_type": "execute_result"
    }
   ],
   "source": [
    "# Cross validation accuracies\n",
    "scores"
   ]
  },
  {
   "cell_type": "code",
   "execution_count": 103,
   "metadata": {},
   "outputs": [
    {
     "data": {
      "text/plain": [
       "0.8920899610745351"
      ]
     },
     "execution_count": 103,
     "metadata": {},
     "output_type": "execute_result"
    }
   ],
   "source": [
    "# Test accuracy\n",
    "log_reg.score(xtest,ytest)"
   ]
  },
  {
   "cell_type": "code",
   "execution_count": 150,
   "metadata": {},
   "outputs": [
    {
     "name": "stdout",
     "output_type": "stream",
     "text": [
      "Train/Test split results:\n",
      "LogisticRegression accuracy is 0.882\n",
      "LogisticRegression log_loss is 0.285\n",
      "LogisticRegression auc is 0.954\n"
     ]
    }
   ],
   "source": [
    "from sklearn.metrics import confusion_matrix, precision_recall_curve, roc_curve, auc, log_loss, accuracy_score\n",
    "\n",
    "\n",
    "logreg.fit(xtrain, ytrain)\n",
    "y_pred = log_reg.predict(xtest)\n",
    "y_pred_proba = log_reg.predict_proba(xtest)[:, 1]\n",
    "[fpr, tpr, thr] = roc_curve(ytest, y_pred_proba)\n",
    "print('Train/Test split results:')\n",
    "print(logreg.__class__.__name__+\" accuracy is %2.3f\" % accuracy_score(ytest, y_pred))\n",
    "print(logreg.__class__.__name__+\" log_loss is %2.3f\" % log_loss(ytest, y_pred_proba))\n",
    "print(logreg.__class__.__name__+\" auc is %2.3f\" % auc(fpr, tpr))"
   ]
  },
  {
   "cell_type": "markdown",
   "metadata": {},
   "source": [
    "**Split Method 2**"
   ]
  },
  {
   "cell_type": "code",
   "execution_count": 125,
   "metadata": {},
   "outputs": [
    {
     "name": "stdout",
     "output_type": "stream",
     "text": [
      "Fitting 5 folds for each of 10 candidates, totalling 50 fits\n"
     ]
    },
    {
     "name": "stderr",
     "output_type": "stream",
     "text": [
      "[Parallel(n_jobs=1)]: Done  50 out of  50 | elapsed:  5.5min finished\n"
     ]
    }
   ],
   "source": [
    "logreg = LogisticRegression()\n",
    "\n",
    "# Create regularization penalty space\n",
    "penalty = ['l1', 'l2']\n",
    "# Create regularization hyperparameter space \n",
    "# C = Inverse of regularization strength; must be a positive float. \n",
    "C = np.logspace(0, 4, 5)\n",
    "# Create hyperparameter options\n",
    "hyperparameters = dict(C=C, penalty=penalty)\n",
    "\n",
    "clf = GridSearchCV(logreg, hyperparameters, cv=5, verbose=1)\n",
    "\n",
    "best_model = clf.fit(x_train_2, y_train_2)"
   ]
  },
  {
   "cell_type": "code",
   "execution_count": 126,
   "metadata": {},
   "outputs": [
    {
     "data": {
      "text/plain": [
       "GridSearchCV(cv=5, error_score='raise',\n",
       "       estimator=LogisticRegression(C=1.0, class_weight=None, dual=False, fit_intercept=True,\n",
       "          intercept_scaling=1, max_iter=100, multi_class='ovr', n_jobs=1,\n",
       "          penalty='l2', random_state=None, solver='liblinear', tol=0.0001,\n",
       "          verbose=0, warm_start=False),\n",
       "       fit_params=None, iid=True, n_jobs=1,\n",
       "       param_grid={'C': array([1.e+00, 1.e+01, 1.e+02, 1.e+03, 1.e+04]), 'penalty': ['l1', 'l2']},\n",
       "       pre_dispatch='2*n_jobs', refit=True, return_train_score='warn',\n",
       "       scoring=None, verbose=1)"
      ]
     },
     "execution_count": 126,
     "metadata": {},
     "output_type": "execute_result"
    }
   ],
   "source": [
    "best_model"
   ]
  },
  {
   "cell_type": "code",
   "execution_count": 55,
   "metadata": {
    "collapsed": true
   },
   "outputs": [],
   "source": [
    "log_reg = LogisticRegression(C=1, penalty='l2')"
   ]
  },
  {
   "cell_type": "code",
   "execution_count": 56,
   "metadata": {
    "collapsed": true
   },
   "outputs": [],
   "source": [
    "scores = []\n",
    "\n",
    "cv = KFold(n_splits=5, random_state=42, shuffle=False)\n",
    "\n",
    "for train_index, test_index in cv.split(x_train_2):\n",
    "\n",
    "    xtr, xte, ytr, yte = x_train_2.iloc[train_index], x_train_2.iloc[test_index], y_train_2.iloc[train_index], y_train_2.iloc[test_index]\n",
    "    log_reg.fit(xtr, ytr)\n",
    "    scores.append(log_reg.score(xte, yte))"
   ]
  },
  {
   "cell_type": "code",
   "execution_count": 57,
   "metadata": {},
   "outputs": [
    {
     "data": {
      "text/plain": [
       "[0.9421, 0.934, 0.9309, 0.937, 0.9337]"
      ]
     },
     "execution_count": 57,
     "metadata": {},
     "output_type": "execute_result"
    }
   ],
   "source": [
    "scores"
   ]
  },
  {
   "cell_type": "code",
   "execution_count": 58,
   "metadata": {},
   "outputs": [
    {
     "data": {
      "text/plain": [
       "0.72192"
      ]
     },
     "execution_count": 58,
     "metadata": {},
     "output_type": "execute_result"
    }
   ],
   "source": [
    "log_reg.score(x_test_2,y_test_2)"
   ]
  },
  {
   "cell_type": "code",
   "execution_count": 152,
   "metadata": {},
   "outputs": [
    {
     "name": "stdout",
     "output_type": "stream",
     "text": [
      "Train/Test split results:\n",
      "LogisticRegression accuracy is 0.731\n",
      "LogisticRegression log_loss is 9.281\n",
      "LogisticRegression auc is 0.876\n"
     ]
    }
   ],
   "source": [
    "logreg.fit(x_train_2, y_train_2)\n",
    "y_pred = log_reg.predict(x_test_2)\n",
    "y_pred_proba = log_reg.predict_proba(x_test_2)[:, 1]\n",
    "[fpr, tpr, thr] = roc_curve(y_test_2, y_pred_proba)\n",
    "print('Train/Test split results:')\n",
    "print(logreg.__class__.__name__+\" accuracy is %2.3f\" % accuracy_score(y_test_2, y_pred))\n",
    "print(logreg.__class__.__name__+\" log_loss is %2.3f\" % log_loss(y_test_2, y_pred))\n",
    "print(logreg.__class__.__name__+\" auc is %2.3f\" % auc(fpr, tpr))"
   ]
  },
  {
   "cell_type": "markdown",
   "metadata": {},
   "source": [
    "### 2. Random Forest"
   ]
  },
  {
   "cell_type": "markdown",
   "metadata": {},
   "source": [
    "**Assumptions for Random Forest**\n",
    "\n",
    "1. Decision trees sometimes overfit the noise in data since they are not general enough. Random forest can reduce the high variance in decision trees by aggregating various outputs of individual decision trees through majority voting and averaging the output given by most individual trees. It is thus less likely to produce results further away from real values, and refrain from only using models that produce higher accuracies. This is assumed to smooth out the variance, so that the model is less likely to produce results further away from the real values. \n",
    "2. The randomness of trees \"ensures\" that the algorithm creates models that are not correlated with each other.\n",
    "3. Model assumes independent observations, in which the dataset is not correlated with each other\n",
    "4. There is no formal distributional assumptions, indicating that the model is non-parametric. \n",
    "\n",
    "\n",
    "* Advantages\n",
    "    * reduce overfitting\n",
    "    * no need for feature normalization\n",
    "    * individual decision trees can be trained in parallel\n",
    "\n",
    "* Disadvantages\n",
    "    * not easily interpretable, since it is difficult to interpret what the splits indicate\n",
    "\n",
    "\n",
    "**Assumptions in relation to our model**\n",
    "\n",
    "Random forest is an appropriate classification algorithm to train our dataset because we want less correlation in data as possible. Our split method endeavors to reduce spatial colinearity, which tries to ensure independence in the dataset. Since the dataset does not follow a particular distribution, it is nice that random forest is non-parametric. Also, the model works for both binary classification and regression, which is good for our case of data."
   ]
  },
  {
   "cell_type": "markdown",
   "metadata": {
    "collapsed": true
   },
   "source": [
    "**Split method 1**"
   ]
  },
  {
   "cell_type": "code",
   "execution_count": 17,
   "metadata": {
    "collapsed": true
   },
   "outputs": [],
   "source": [
    "from sklearn.ensemble import RandomForestClassifier\n",
    "from sklearn.model_selection import GridSearchCV\n"
   ]
  },
  {
   "cell_type": "code",
   "execution_count": 38,
   "metadata": {},
   "outputs": [
    {
     "name": "stdout",
     "output_type": "stream",
     "text": [
      "Fitting 5 folds for each of 10 candidates, totalling 50 fits\n"
     ]
    },
    {
     "name": "stderr",
     "output_type": "stream",
     "text": [
      "[Parallel(n_jobs=1)]: Done  50 out of  50 | elapsed:  5.0min finished\n"
     ]
    }
   ],
   "source": [
    "logreg = LogisticRegression()\n",
    "\n",
    "# Create regularization penalty space\n",
    "penalty = ['l1', 'l2']\n",
    "# Create regularization hyperparameter space \n",
    "# C = Inverse of regularization strength; must be a positive float. \n",
    "C = np.logspace(0, 4, 5)\n",
    "# Create hyperparameter options\n",
    "hyperparameters = dict(C=C, penalty=penalty)\n",
    "\n",
    "clf = GridSearchCV(logreg, hyperparameters, cv=5, verbose=1)\n",
    "\n",
    "best_model = clf.fit(X_train, y_train)\n"
   ]
  },
  {
   "cell_type": "markdown",
   "metadata": {},
   "source": [
    "Since random forest method takes longer time to train, we will be sampling the training data to a smaller size. Training the whole training set will take approximately 1.9 hours, and 30 minutes for the training set of size 50000, so we will reduce the training size 10000."
   ]
  },
  {
   "cell_type": "code",
   "execution_count": 18,
   "metadata": {
    "collapsed": true
   },
   "outputs": [],
   "source": [
    "rf_df=pd.concat([X_train,y_train], axis=1).sample(10000)\n",
    "rf_train = rf_df.drop('expert', axis=1)\n",
    "rf_test = rf_df['expert']"
   ]
  },
  {
   "cell_type": "code",
   "execution_count": 76,
   "metadata": {},
   "outputs": [
    {
     "name": "stdout",
     "output_type": "stream",
     "text": [
      "Fitting 5 folds for each of 18 candidates, totalling 90 fits\n"
     ]
    },
    {
     "name": "stderr",
     "output_type": "stream",
     "text": [
      "[Parallel(n_jobs=1)]: Done  90 out of  90 | elapsed:  3.1min finished\n"
     ]
    },
    {
     "data": {
      "text/plain": [
       "{'max_depth': 8, 'max_features': 'auto', 'n_estimators': 300}"
      ]
     },
     "execution_count": 76,
     "metadata": {},
     "output_type": "execute_result"
    }
   ],
   "source": [
    "rf = RandomForestClassifier(random_state=42)\n",
    "param_grid = { \n",
    "    'n_estimators': [50, 100, 300],\n",
    "    'max_features': ['auto', 'log2'],\n",
    "    'max_depth' : [4,6,8]\n",
    "}\n",
    "rf_clf = GridSearchCV(rf, param_grid=param_grid, cv= 5, verbose=1)\n",
    "rf_clf.fit(rf_train, rf_test)\n",
    "rf_clf.best_params_"
   ]
  },
  {
   "cell_type": "code",
   "execution_count": 19,
   "metadata": {
    "collapsed": true
   },
   "outputs": [],
   "source": [
    "rfc = RandomForestClassifier(max_depth=8, max_features = 'auto', n_estimators=300)"
   ]
  },
  {
   "cell_type": "code",
   "execution_count": 79,
   "metadata": {
    "collapsed": true
   },
   "outputs": [],
   "source": [
    "scores = []\n",
    "\n",
    "cv = KFold(n_splits=5, random_state=42, shuffle=False)\n",
    "\n",
    "for train_index, test_index in cv.split(X_train):\n",
    "\n",
    "    xtr, xte, ytr, yte = X_train.iloc[train_index], X_train.iloc[test_index], y_train.iloc[train_index], y_train.iloc[test_index]\n",
    "    rfc.fit(xtr, ytr)\n",
    "    scores.append(rfc.score(xte, yte))"
   ]
  },
  {
   "cell_type": "code",
   "execution_count": 80,
   "metadata": {},
   "outputs": [
    {
     "data": {
      "text/plain": [
       "[0.9686, 0.9718, 0.9721, 0.9695, 0.9733]"
      ]
     },
     "execution_count": 80,
     "metadata": {},
     "output_type": "execute_result"
    }
   ],
   "source": [
    "scores"
   ]
  },
  {
   "cell_type": "code",
   "execution_count": 82,
   "metadata": {},
   "outputs": [
    {
     "data": {
      "text/plain": [
       "0.9693642174059302"
      ]
     },
     "execution_count": 82,
     "metadata": {},
     "output_type": "execute_result"
    }
   ],
   "source": [
    "rfc.score(xtest, ytest)"
   ]
  },
  {
   "cell_type": "markdown",
   "metadata": {
    "collapsed": true
   },
   "source": [
    "**Split method 2**"
   ]
  },
  {
   "cell_type": "code",
   "execution_count": 88,
   "metadata": {
    "collapsed": true
   },
   "outputs": [],
   "source": [
    "rfc_train2 = train_2.sample(10000)\n",
    "rfc_test2 = test.sample(2500)\n",
    "\n",
    "rfc_xtrain_2 = rfc_train2.drop('expert', axis=1)\n",
    "rfc_ytrain_2 = rfc_train2['expert']\n",
    "rfc_xtest_2 = rfc_test2.drop('expert', axis=1)\n",
    "rfc_ytest_2 = rfc_test2['expert']"
   ]
  },
  {
   "cell_type": "code",
   "execution_count": 92,
   "metadata": {},
   "outputs": [
    {
     "name": "stdout",
     "output_type": "stream",
     "text": [
      "Fitting 5 folds for each of 18 candidates, totalling 90 fits\n"
     ]
    },
    {
     "name": "stderr",
     "output_type": "stream",
     "text": [
      "[Parallel(n_jobs=1)]: Done  90 out of  90 | elapsed:  3.1min finished\n"
     ]
    },
    {
     "data": {
      "text/plain": [
       "{'max_depth': 8, 'max_features': 'auto', 'n_estimators': 100}"
      ]
     },
     "execution_count": 92,
     "metadata": {},
     "output_type": "execute_result"
    }
   ],
   "source": [
    "rf = RandomForestClassifier(random_state=42)\n",
    "\n",
    "rf_clf2 = GridSearchCV(rf, param_grid=param_grid, cv= 5, verbose=1)\n",
    "rf_clf2.fit(rfc_xtrain_2, rfc_ytrain_2)\n",
    "rf_clf2.best_params_"
   ]
  },
  {
   "cell_type": "code",
   "execution_count": 20,
   "metadata": {
    "collapsed": true
   },
   "outputs": [],
   "source": [
    "rfc2 = RandomForestClassifier(max_depth = 8, max_features='auto', n_estimators=100)"
   ]
  },
  {
   "cell_type": "code",
   "execution_count": 94,
   "metadata": {
    "collapsed": true
   },
   "outputs": [],
   "source": [
    "scores = []\n",
    "\n",
    "cv = KFold(n_splits=5, random_state=42, shuffle=False)\n",
    "\n",
    "for train_index, test_index in cv.split(X_train):\n",
    "\n",
    "    xtr, xte, ytr, yte = X_train.iloc[train_index], X_train.iloc[test_index], y_train.iloc[train_index], y_train.iloc[test_index]\n",
    "    rfc.fit(xtr, ytr)\n",
    "    scores.append(rfc2.score(xte, yte))"
   ]
  },
  {
   "cell_type": "code",
   "execution_count": 95,
   "metadata": {},
   "outputs": [
    {
     "data": {
      "text/plain": [
       "[0.8458, 0.8493, 0.8518, 0.8474, 0.8475]"
      ]
     },
     "execution_count": 95,
     "metadata": {},
     "output_type": "execute_result"
    }
   ],
   "source": [
    "scores"
   ]
  },
  {
   "cell_type": "code",
   "execution_count": 23,
   "metadata": {},
   "outputs": [
    {
     "data": {
      "text/plain": [
       "RandomForestClassifier(bootstrap=True, class_weight=None, criterion='gini',\n",
       "            max_depth=8, max_features='auto', max_leaf_nodes=None,\n",
       "            min_impurity_decrease=0.0, min_impurity_split=None,\n",
       "            min_samples_leaf=1, min_samples_split=2,\n",
       "            min_weight_fraction_leaf=0.0, n_estimators=100, n_jobs=1,\n",
       "            oob_score=False, random_state=None, verbose=0,\n",
       "            warm_start=False)"
      ]
     },
     "execution_count": 23,
     "metadata": {},
     "output_type": "execute_result"
    }
   ],
   "source": [
    "rfc2.fit(x_train_2, y_train_2)"
   ]
  },
  {
   "cell_type": "code",
   "execution_count": 28,
   "metadata": {},
   "outputs": [],
   "source": [
    "rf_y = rfc2.predict(x_test_2)\n",
    "rf_y=pd.DataFrame(rf_y)"
   ]
  },
  {
   "cell_type": "code",
   "execution_count": 29,
   "metadata": {},
   "outputs": [],
   "source": [
    "rf_y.to_csv('rf_y.csv')"
   ]
  },
  {
   "cell_type": "code",
   "execution_count": 96,
   "metadata": {},
   "outputs": [
    {
     "data": {
      "text/plain": [
       "0.844946897976837"
      ]
     },
     "execution_count": 96,
     "metadata": {},
     "output_type": "execute_result"
    }
   ],
   "source": [
    "rfc2.score(xtest, ytest)"
   ]
  },
  {
   "cell_type": "markdown",
   "metadata": {},
   "source": [
    "### 3b"
   ]
  },
  {
   "cell_type": "code",
   "execution_count": 41,
   "metadata": {
    "collapsed": true
   },
   "outputs": [],
   "source": [
    "from sklearn.metrics import roc_auc_score\n",
    "from sklearn.metrics import roc_curve\n",
    "import matplotlib.pyplot as plt \n"
   ]
  },
  {
   "cell_type": "markdown",
   "metadata": {},
   "source": [
    "### 1. Logistic Regression"
   ]
  },
  {
   "cell_type": "markdown",
   "metadata": {},
   "source": [
    "**Split Method 1**"
   ]
  },
  {
   "cell_type": "code",
   "execution_count": 141,
   "metadata": {},
   "outputs": [
    {
     "data": {
      "text/plain": [
       "LogisticRegression(C=1, class_weight=None, dual=False, fit_intercept=True,\n",
       "          intercept_scaling=1, max_iter=100, multi_class='ovr', n_jobs=1,\n",
       "          penalty='l2', random_state=None, solver='liblinear', tol=0.0001,\n",
       "          verbose=0, warm_start=False)"
      ]
     },
     "execution_count": 141,
     "metadata": {},
     "output_type": "execute_result"
    }
   ],
   "source": [
    "log_reg.fit(xtrain, ytrain)\n"
   ]
  },
  {
   "cell_type": "code",
   "execution_count": 142,
   "metadata": {
    "collapsed": true
   },
   "outputs": [],
   "source": [
    "\n",
    "\n",
    "\n",
    "y_pred = log_reg.predict(xtest)\n",
    "y_pred_proba = log_reg.predict_proba(xtest)[:, 1]\n",
    "[fpr, tpr, thr] = roc_curve(ytest, y_pred_proba)"
   ]
  },
  {
   "cell_type": "code",
   "execution_count": 143,
   "metadata": {},
   "outputs": [
    {
     "name": "stdout",
     "output_type": "stream",
     "text": [
      "TPR =  0.9069037246359747\n",
      "FPR =  0.12830671705473606\n",
      "FNR =  0.09309627536402527\n"
     ]
    }
   ],
   "source": [
    "cm1 = confusion_matrix(ytest, log_reg.predict(xtest))\n",
    "\n",
    "\n",
    "print('TPR = ', cm1[0][0]/ (cm1[0][0] + cm1[0][1]))\n",
    "\n",
    "\n",
    "print('FPR = ', cm1[1][0] / (cm1[1][1] + cm1[0][1]))\n",
    "\n",
    "print('FNR = ', cm1[0][1] / (cm1[0][1] + cm1[0][0]))\n"
   ]
  },
  {
   "cell_type": "code",
   "execution_count": 154,
   "metadata": {},
   "outputs": [
    {
     "data": {
      "image/png": "[encoded data removed]",
      "text/plain": [
       "<matplotlib.figure.Figure at 0x1a21523630>"
      ]
     },
     "metadata": {},
     "output_type": "display_data"
    },
    {
     "name": "stdout",
     "output_type": "stream",
     "text": [
      "Using a threshold of 0.121 guarantees a sensitivity of 0.950 and a specificity of 0.826, i.e. a false positive rate of 17.43%.\n"
     ]
    }
   ],
   "source": [
    "idx = np.min(np.where(tpr > 0.95)) # index of the first threshold for which the sensibility > 0.95\n",
    "\n",
    "plt.figure()\n",
    "plt.plot(fpr, tpr, color='coral', label='ROC curve (area = %0.3f)' % auc(fpr, tpr))\n",
    "plt.plot([0, 1], [0, 1], 'k--')\n",
    "plt.plot([0,fpr[idx]], [tpr[idx],tpr[idx]], 'k--', color='blue')\n",
    "plt.plot([fpr[idx],fpr[idx]], [0,tpr[idx]], 'k--', color='blue')\n",
    "plt.xlim([0.0, 1.0])\n",
    "plt.ylim([0.0, 1.05])\n",
    "plt.xlabel('False Positive Rate (1 - specificity)', fontsize=14)\n",
    "plt.ylabel('True Positive Rate (recall)', fontsize=14)\n",
    "plt.title('Receiver operating characteristic (ROC) curve')\n",
    "plt.legend(loc=\"lower right\")\n",
    "plt.show()\n",
    "\n",
    "print(\"Using a threshold of %.3f \" % thr[idx] + \"guarantees a sensitivity of %.3f \" % tpr[idx] +  \n",
    "      \"and a specificity of %.3f\" % (1-fpr[idx]) + \n",
    "      \", i.e. a false positive rate of %.2f%%.\" % (np.array(fpr[idx])*100))"
   ]
  },
  {
   "cell_type": "markdown",
   "metadata": {},
   "source": [
    "**Split Method 2**"
   ]
  },
  {
   "cell_type": "code",
   "execution_count": 137,
   "metadata": {
    "collapsed": true
   },
   "outputs": [],
   "source": [
    "log_reg.fit(x_train_2, y_train_2)\n",
    "y_pred = log_reg.predict(x_test_2)\n",
    "y_pred_proba = log_reg.predict_proba(x_test_2)[:, 1]\n",
    "[fpr, tpr, thr] = roc_curve(y_test_2, y_pred_proba)"
   ]
  },
  {
   "cell_type": "code",
   "execution_count": 138,
   "metadata": {},
   "outputs": [
    {
     "name": "stdout",
     "output_type": "stream",
     "text": [
      "TPR =  0.9202872954197574\n",
      "FPR =  0.18634108122225124\n",
      "FNR =  0.07971270458024256\n"
     ]
    }
   ],
   "source": [
    "cm2 = confusion_matrix(ytest, log_reg.predict(xtest))\n",
    "\n",
    "\n",
    "print('TPR = ', cm2[0][0]/ (cm2[0][0] + cm2[0][1]))\n",
    "\n",
    "\n",
    "print('FPR = ', cm2[1][0] / (cm2[1][1] + cm2[0][1]))\n",
    "\n",
    "print('FNR = ', cm2[0][1] / (cm2[0][1] + cm2[0][0]))\n"
   ]
  },
  {
   "cell_type": "code",
   "execution_count": 156,
   "metadata": {},
   "outputs": [
    {
     "data": {
      "image/png": "[encoded data removed]",
      "text/plain": [
       "<matplotlib.figure.Figure at 0x114f33748>"
      ]
     },
     "metadata": {},
     "output_type": "display_data"
    },
    {
     "name": "stdout",
     "output_type": "stream",
     "text": [
      "Using a threshold of 0.050 guarantees a sensitivity of 0.951 and a specificity of 0.711, i.e. a false positive rate of 28.92%.\n"
     ]
    }
   ],
   "source": [
    "idx = np.min(np.where(tpr > 0.95)) # index of the first threshold for which the sensibility > 0.95\n",
    "\n",
    "plt.figure()\n",
    "plt.plot(fpr, tpr, color='coral', label='ROC curve (area = %0.3f)' % auc(fpr, tpr))\n",
    "plt.plot([0, 1], [0, 1], 'k--')\n",
    "plt.plot([0,fpr[idx]], [tpr[idx],tpr[idx]], 'k--', color='blue')\n",
    "plt.plot([fpr[idx],fpr[idx]], [0,tpr[idx]], 'k--', color='blue')\n",
    "plt.xlim([0.0, 1.0])\n",
    "plt.ylim([0.0, 1.05])\n",
    "plt.xlabel('False Positive Rate (1 - specificity)', fontsize=14)\n",
    "plt.ylabel('True Positive Rate (recall)', fontsize=14)\n",
    "plt.title('Receiver operating characteristic (ROC) curve')\n",
    "plt.legend(loc=\"lower right\")\n",
    "plt.show()\n",
    "\n",
    "print(\"Using a threshold of %.3f \" % thr[idx] + \"guarantees a sensitivity of %.3f \" % tpr[idx] +  \n",
    "      \"and a specificity of %.3f\" % (1-fpr[idx]) + \n",
    "      \", i.e. a false positive rate of %.2f%%.\" % (np.array(fpr[idx])*100))"
   ]
  },
  {
   "cell_type": "markdown",
   "metadata": {},
   "source": [
    "### 2. Random Forest"
   ]
  },
  {
   "cell_type": "code",
   "execution_count": 101,
   "metadata": {
    "collapsed": true
   },
   "outputs": [],
   "source": [
    "from sklearn.metrics import confusion_matrix, precision_recall_curve, roc_curve, auc, log_loss, accuracy_score,precision_score, \n",
    "\n"
   ]
  },
  {
   "cell_type": "code",
   "execution_count": 99,
   "metadata": {
    "collapsed": true
   },
   "outputs": [],
   "source": [
    "\n",
    "rfc.fit(xtrain, ytrain)\n",
    "y_pred = rfc.predict(xtest)\n",
    "y_pred_proba = rfc.predict_proba(xtest)[:, 1]\n",
    "[fpr, tpr, thr] = roc_curve(ytest, y_pred_proba)"
   ]
  },
  {
   "cell_type": "code",
   "execution_count": 144,
   "metadata": {},
   "outputs": [
    {
     "name": "stdout",
     "output_type": "stream",
     "text": [
      "TPR =  0.9614977039915225\n",
      "FPR =  0.014037789492388793\n",
      "FNR =  0.03850229600847757\n"
     ]
    }
   ],
   "source": [
    "cm3 = confusion_matrix(ytest, rfc.predict(xtest))\n",
    "\n",
    "\n",
    "print('TPR = ', cm3[0][0]/ (cm3[0][0] + cm3[0][1]))\n",
    "\n",
    "\n",
    "print('FPR = ', cm3[1][0] / (cm3[1][1] + cm3[0][1]))\n",
    "\n",
    "print('FNR = ', cm3[0][1] / (cm3[0][1] + cm3[0][0]))\n"
   ]
  },
  {
   "cell_type": "code",
   "execution_count": 102,
   "metadata": {},
   "outputs": [
    {
     "data": {
      "text/plain": [
       "<matplotlib.figure.Figure at 0x1a1485eac8>"
      ]
     },
     "metadata": {},
     "output_type": "display_data"
    },
    {
     "data": {
      "image/png": "[encoded data removed]",
      "text/plain": [
       "<matplotlib.figure.Figure at 0x1a148729b0>"
      ]
     },
     "metadata": {},
     "output_type": "display_data"
    },
    {
     "name": "stdout",
     "output_type": "stream",
     "text": [
      "Using a threshold of 0.738 guarantees a sensitivity of 0.950 and a specificity of 0.987, i.e. a false positive rate of 1.30%.\n"
     ]
    }
   ],
   "source": [
    "idx = np.min(np.where(tpr > 0.95)) # index of the first threshold for which the sensibility > 0.95\n",
    "\n",
    "plt.figure()\n",
    "plt.plot(fpr, tpr, color='coral', label='ROC curve (area = %0.3f)' % auc(fpr, tpr))\n",
    "plt.plot([0, 1], [0, 1], 'k--')\n",
    "plt.plot([0,fpr[idx]], [tpr[idx],tpr[idx]], 'k--', color='blue')\n",
    "plt.plot([fpr[idx],fpr[idx]], [0,tpr[idx]], 'k--', color='blue')\n",
    "plt.xlim([0.0, 1.0])\n",
    "plt.ylim([0.0, 1.05])\n",
    "plt.xlabel('False Positive Rate (1 - specificity)', fontsize=14)\n",
    "plt.ylabel('True Positive Rate (recall)', fontsize=14)\n",
    "plt.title('Receiver operating characteristic (ROC) curve')\n",
    "plt.legend(loc=\"lower right\")\n",
    "plt.show()\n",
    "\n",
    "print(\"Using a threshold of %.3f \" % thr[idx] + \"guarantees a sensitivity of %.3f \" % tpr[idx] +  \n",
    "      \"and a specificity of %.3f\" % (1-fpr[idx]) + \n",
    "      \", i.e. a false positive rate of %.2f%%.\" % (np.array(fpr[idx])*100))"
   ]
  },
  {
   "cell_type": "code",
   "execution_count": 109,
   "metadata": {
    "collapsed": true
   },
   "outputs": [],
   "source": [
    "\n",
    "rfc2.fit(xtrain, ytrain)\n",
    "y_pred = rfc2.predict(xtest)\n",
    "y_pred_proba = rfc2.predict_proba(xtest)[:, 1]\n",
    "[fpr, tpr, thr] = roc_curve(ytest, y_pred_proba)"
   ]
  },
  {
   "cell_type": "code",
   "execution_count": 145,
   "metadata": {},
   "outputs": [
    {
     "name": "stdout",
     "output_type": "stream",
     "text": [
      "TPR =  0.9622826641547941\n",
      "FPR =  0.013874066168623266\n",
      "FNR =  0.037717335845205854\n"
     ]
    }
   ],
   "source": [
    "cm3 = confusion_matrix(ytest, rfc2.predict(xtest))\n",
    "\n",
    "\n",
    "print('TPR = ', cm3[0][0]/ (cm3[0][0] + cm3[0][1]))\n",
    "\n",
    "\n",
    "print('FPR = ', cm3[1][0] / (cm3[1][1] + cm3[0][1]))\n",
    "\n",
    "print('FNR = ', cm3[0][1] / (cm3[0][1] + cm3[0][0]))\n"
   ]
  },
  {
   "cell_type": "code",
   "execution_count": 110,
   "metadata": {},
   "outputs": [
    {
     "data": {
      "image/png": "[encoded data removed]",
      "text/plain": [
       "<matplotlib.figure.Figure at 0x1a14e20e10>"
      ]
     },
     "metadata": {},
     "output_type": "display_data"
    },
    {
     "name": "stdout",
     "output_type": "stream",
     "text": [
      "Using a threshold of 0.741 guarantees a sensitivity of 0.950 and a specificity of 0.987, i.e. a false positive rate of 1.30%.\n"
     ]
    }
   ],
   "source": [
    "idx = np.min(np.where(tpr > 0.95)) # index of the first threshold for which the sensibility > 0.95\n",
    "\n",
    "plt.figure()\n",
    "plt.plot(fpr, tpr, color='coral', label='ROC curve (area = %0.3f)' % auc(fpr, tpr))\n",
    "plt.plot([0, 1], [0, 1], 'k--')\n",
    "plt.plot([0,fpr[idx]], [tpr[idx],tpr[idx]], 'k--', color='blue')\n",
    "plt.plot([fpr[idx],fpr[idx]], [0,tpr[idx]], 'k--', color='blue')\n",
    "plt.xlim([0.0, 1.0])\n",
    "plt.ylim([0.0, 1.05])\n",
    "plt.xlabel('False Positive Rate (1 - specificity)', fontsize=14)\n",
    "plt.ylabel('True Positive Rate (recall)', fontsize=14)\n",
    "plt.title('Receiver operating characteristic (ROC) curve')\n",
    "plt.legend(loc=\"lower right\")\n",
    "plt.show()\n",
    "\n",
    "print(\"Using a threshold of %.3f \" % thr[idx] + \"guarantees a sensitivity of %.3f \" % tpr[idx] +  \n",
    "      \"and a specificity of %.3f\" % (1-fpr[idx]) + \n",
    "      \", i.e. a false positive rate of %.2f%%.\" % (np.array(fpr[idx])*100))"
   ]
  },
  {
   "cell_type": "code",
   "execution_count": null,
   "metadata": {
    "collapsed": true
   },
   "outputs": [],
   "source": []
  },
  {
   "cell_type": "markdown",
   "metadata": {},
   "source": [
    "### 4. Diagnostics"
   ]
  },
  {
   "cell_type": "code",
   "execution_count": 37,
   "metadata": {},
   "outputs": [
    {
     "data": {
      "text/html": [
       "<div>\n",
       "<style scoped>\n",
       "    .dataframe tbody tr th:only-of-type {\n",
       "        vertical-align: middle;\n",
       "    }\n",
       "\n",
       "    .dataframe tbody tr th {\n",
       "        vertical-align: top;\n",
       "    }\n",
       "\n",
       "    .dataframe thead th {\n",
       "        text-align: right;\n",
       "    }\n",
       "</style>\n",
       "<table border=\"1\" class=\"dataframe\">\n",
       "  <thead>\n",
       "    <tr style=\"text-align: right;\">\n",
       "      <th></th>\n",
       "      <th>y</th>\n",
       "      <th>x</th>\n",
       "      <th>expert</th>\n",
       "      <th>ndai</th>\n",
       "      <th>sd</th>\n",
       "      <th>corr</th>\n",
       "      <th>df</th>\n",
       "      <th>cf</th>\n",
       "      <th>bf</th>\n",
       "      <th>af</th>\n",
       "      <th>an</th>\n",
       "    </tr>\n",
       "  </thead>\n",
       "  <tbody>\n",
       "    <tr>\n",
       "      <th>0</th>\n",
       "      <td>373.0</td>\n",
       "      <td>65.0</td>\n",
       "      <td>-1.0</td>\n",
       "      <td>-0.228591</td>\n",
       "      <td>1.752265</td>\n",
       "      <td>0.105434</td>\n",
       "      <td>271.62891</td>\n",
       "      <td>261.33844</td>\n",
       "      <td>251.83549</td>\n",
       "      <td>233.98555</td>\n",
       "      <td>219.14351</td>\n",
       "    </tr>\n",
       "    <tr>\n",
       "      <th>1</th>\n",
       "      <td>374.0</td>\n",
       "      <td>65.0</td>\n",
       "      <td>-1.0</td>\n",
       "      <td>-0.205959</td>\n",
       "      <td>1.875819</td>\n",
       "      <td>0.113432</td>\n",
       "      <td>272.31284</td>\n",
       "      <td>262.95920</td>\n",
       "      <td>252.11003</td>\n",
       "      <td>234.83566</td>\n",
       "      <td>218.55107</td>\n",
       "    </tr>\n",
       "    <tr>\n",
       "      <th>2</th>\n",
       "      <td>375.0</td>\n",
       "      <td>65.0</td>\n",
       "      <td>-1.0</td>\n",
       "      <td>0.019373</td>\n",
       "      <td>2.286991</td>\n",
       "      <td>0.114524</td>\n",
       "      <td>274.61032</td>\n",
       "      <td>263.17834</td>\n",
       "      <td>251.78252</td>\n",
       "      <td>233.68451</td>\n",
       "      <td>219.46140</td>\n",
       "    </tr>\n",
       "    <tr>\n",
       "      <th>3</th>\n",
       "      <td>376.0</td>\n",
       "      <td>65.0</td>\n",
       "      <td>-1.0</td>\n",
       "      <td>-0.303432</td>\n",
       "      <td>2.822642</td>\n",
       "      <td>0.107892</td>\n",
       "      <td>276.65012</td>\n",
       "      <td>261.89957</td>\n",
       "      <td>250.35201</td>\n",
       "      <td>234.05057</td>\n",
       "      <td>220.41025</td>\n",
       "    </tr>\n",
       "    <tr>\n",
       "      <th>4</th>\n",
       "      <td>377.0</td>\n",
       "      <td>65.0</td>\n",
       "      <td>-1.0</td>\n",
       "      <td>-0.675589</td>\n",
       "      <td>3.656925</td>\n",
       "      <td>0.102998</td>\n",
       "      <td>275.60010</td>\n",
       "      <td>259.69360</td>\n",
       "      <td>250.37851</td>\n",
       "      <td>234.48888</td>\n",
       "      <td>221.05806</td>\n",
       "    </tr>\n",
       "  </tbody>\n",
       "</table>\n",
       "</div>"
      ],
      "text/plain": [
       "       y     x  expert      ndai        sd      corr         df         cf  \\\n",
       "0  373.0  65.0    -1.0 -0.228591  1.752265  0.105434  271.62891  261.33844   \n",
       "1  374.0  65.0    -1.0 -0.205959  1.875819  0.113432  272.31284  262.95920   \n",
       "2  375.0  65.0    -1.0  0.019373  2.286991  0.114524  274.61032  263.17834   \n",
       "3  376.0  65.0    -1.0 -0.303432  2.822642  0.107892  276.65012  261.89957   \n",
       "4  377.0  65.0    -1.0 -0.675589  3.656925  0.102998  275.60010  259.69360   \n",
       "\n",
       "          bf         af         an  \n",
       "0  251.83549  233.98555  219.14351  \n",
       "1  252.11003  234.83566  218.55107  \n",
       "2  251.78252  233.68451  219.46140  \n",
       "3  250.35201  234.05057  220.41025  \n",
       "4  250.37851  234.48888  221.05806  "
      ]
     },
     "execution_count": 37,
     "metadata": {},
     "output_type": "execute_result"
    }
   ],
   "source": [
    "df1.head()"
   ]
  },
  {
   "cell_type": "code",
   "execution_count": 36,
   "metadata": {},
   "outputs": [
    {
     "data": {
      "text/plain": [
       "array([[ 3.96753651e-04, -9.98646870e-03,  1.80998799e+00,\n",
       "        -6.72861868e-02,  1.47282306e-01,  1.91369239e-02,\n",
       "         4.82853144e-03, -1.04761188e-02, -4.80421446e-02,\n",
       "         3.63259610e-02]])"
      ]
     },
     "execution_count": 36,
     "metadata": {},
     "output_type": "execute_result"
    }
   ],
   "source": [
    "log_reg.coef_[]"
   ]
  },
  {
   "cell_type": "markdown",
   "metadata": {},
   "source": [
    "oef_ : array, shape (1, n_features) or (n_classes, n_features)\n",
    "Coefficient of the features in the decision function.\n",
    "\n",
    "coef_ is of shape (1, n_features) when the given problem is binary. In particular, when multi_class=’multinomial’, coef_ corresponds to outcome 1 (True) and -coef_ corresponds to outcome 0 (False).\n",
    "\n",
    "intercept_ : array, shape (1,) or (n_classes,)\n",
    "Intercept (a.k.a. bias) added to the decision function.\n",
    "\n",
    "If fit_intercept is set to False, the intercept is set to zero. intercept_ is of shape (1,) when the given problem is binary. In particular, when multi_class=’multinomial’, intercept_ corresponds to outcome 1 (True) and -intercept_ corresponds to outcome 0 (False)."
   ]
  },
  {
   "cell_type": "code",
   "execution_count": 63,
   "metadata": {},
   "outputs": [],
   "source": [
    "xtr = xtrain.drop(['y','x'], axis=1)\n",
    "xte = xtest.drop(['y','x'], axis=1)"
   ]
  },
  {
   "cell_type": "code",
   "execution_count": 43,
   "metadata": {},
   "outputs": [
    {
     "name": "stdout",
     "output_type": "stream",
     "text": [
      "Optimal number of features: 2\n",
      "Selected features: ['ndai', 'corr']\n"
     ]
    },
    {
     "data": {
      "image/png": "[encoded data removed]",
      "text/plain": [
       "<matplotlib.figure.Figure at 0x1a15422240>"
      ]
     },
     "metadata": {},
     "output_type": "display_data"
    }
   ],
   "source": [
    "from sklearn.feature_selection import RFECV\n",
    "# Create the RFE object and compute a cross-validated score.\n",
    "# The \"accuracy\" scoring is proportional to the number of correct classifications\n",
    "rfecv = RFECV(estimator=LogisticRegression(), step=1, cv=10, scoring='accuracy')\n",
    "rfecv.fit(xtr, ytrain)\n",
    "\n",
    "print(\"Optimal number of features: %d\" % rfecv.n_features_)\n",
    "print('Selected features: %s' % list(xtr.columns[rfecv.support_]))\n",
    "\n",
    "# Plot number of features VS. cross-validation scores\n",
    "plt.figure(figsize=(10,6))\n",
    "plt.xlabel(\"Number of features selected\")\n",
    "plt.ylabel(\"Cross validation score (nb of correct classifications)\")\n",
    "plt.plot(range(1, len(rfecv.grid_scores_) + 1), rfecv.grid_scores_)\n",
    "plt.show()\n"
   ]
  },
  {
   "cell_type": "code",
   "execution_count": null,
   "metadata": {},
   "outputs": [],
   "source": []
  },
  {
   "cell_type": "code",
   "execution_count": 45,
   "metadata": {},
   "outputs": [
    {
     "data": {
      "text/plain": [
       "LogisticRegression(C=1, class_weight=None, dual=False, fit_intercept=True,\n",
       "          intercept_scaling=1, max_iter=100, multi_class='ovr', n_jobs=1,\n",
       "          penalty='l2', random_state=None, solver='liblinear', tol=0.0001,\n",
       "          verbose=0, warm_start=False)"
      ]
     },
     "execution_count": 45,
     "metadata": {},
     "output_type": "execute_result"
    }
   ],
   "source": [
    "log_reg.fit(xtr[['ndai', 'corr']], ytrain)"
   ]
  },
  {
   "cell_type": "code",
   "execution_count": 47,
   "metadata": {},
   "outputs": [
    {
     "data": {
      "text/plain": [
       "0.8936998414147724"
      ]
     },
     "execution_count": 47,
     "metadata": {},
     "output_type": "execute_result"
    }
   ],
   "source": [
    "log_reg.score(xtest[['ndai','corr']], ytest)"
   ]
  },
  {
   "cell_type": "code",
   "execution_count": 49,
   "metadata": {},
   "outputs": [
    {
     "data": {
      "text/plain": [
       "0.8924263539814503"
      ]
     },
     "execution_count": 49,
     "metadata": {},
     "output_type": "execute_result"
    }
   ],
   "source": [
    "log_reg.fit(xtrain,ytrain)\n",
    "log_reg.score(xtest, ytest)"
   ]
  },
  {
   "cell_type": "code",
   "execution_count": 51,
   "metadata": {
    "collapsed": true
   },
   "outputs": [],
   "source": [
    "xtr2 = x_train_2.drop(['y','x'], axis=1)\n",
    "xte2 = x_test_2.drop(['y','x'], axis=1)"
   ]
  },
  {
   "cell_type": "code",
   "execution_count": 52,
   "metadata": {},
   "outputs": [
    {
     "name": "stdout",
     "output_type": "stream",
     "text": [
      "Optimal number of features: 4\n",
      "Selected features: ['ndai', 'corr', 'af', 'an']\n"
     ]
    },
    {
     "data": {
      "image/png": "[encoded data removed]",
      "text/plain": [
       "<matplotlib.figure.Figure at 0x1a105ecb70>"
      ]
     },
     "metadata": {},
     "output_type": "display_data"
    }
   ],
   "source": [
    "from sklearn.feature_selection import RFECV\n",
    "# Create the RFE object and compute a cross-validated score.\n",
    "# The \"accuracy\" scoring is proportional to the number of correct classifications\n",
    "rfecv = RFECV(estimator=LogisticRegression(), step=1, cv=10, scoring='accuracy')\n",
    "rfecv.fit(xtr2, y_train_2)\n",
    "\n",
    "print(\"Optimal number of features: %d\" % rfecv.n_features_)\n",
    "print('Selected features: %s' % list(xtr2.columns[rfecv.support_]))\n",
    "\n",
    "# Plot number of features VS. cross-validation scores\n",
    "plt.figure(figsize=(10,6))\n",
    "plt.xlabel(\"Number of features selected\")\n",
    "plt.ylabel(\"Cross validation score (nb of correct classifications)\")\n",
    "plt.plot(range(1, len(rfecv.grid_scores_) + 1), rfecv.grid_scores_)\n",
    "plt.show()\n"
   ]
  },
  {
   "cell_type": "code",
   "execution_count": 59,
   "metadata": {},
   "outputs": [
    {
     "data": {
      "text/plain": [
       "0.7868"
      ]
     },
     "execution_count": 59,
     "metadata": {},
     "output_type": "execute_result"
    }
   ],
   "source": [
    "log_reg.fit(xtr2[['ndai', 'corr']], y_train_2)\n",
    "log_reg.score(xte2[['ndai','corr']], y_test_2)"
   ]
  },
  {
   "cell_type": "code",
   "execution_count": 60,
   "metadata": {},
   "outputs": [
    {
     "data": {
      "text/plain": [
       "0.72392"
      ]
     },
     "execution_count": 60,
     "metadata": {},
     "output_type": "execute_result"
    }
   ],
   "source": [
    "log_reg.fit(x_train_2,y_train_2)\n",
    "log_reg.score(x_test_2, y_test_2)"
   ]
  },
  {
   "cell_type": "code",
   "execution_count": null,
   "metadata": {
    "collapsed": true
   },
   "outputs": [],
   "source": []
  }
 ],
 "metadata": {
  "kernelspec": {
   "display_name": "Python 3",
   "language": "python",
   "name": "python3"
  },
  "language_info": {
   "codemirror_mode": {
    "name": "ipython",
    "version": 3
   },
   "file_extension": ".py",
   "mimetype": "text/x-python",
   "name": "python",
   "nbconvert_exporter": "python",
   "pygments_lexer": "ipython3",
   "version": "3.6.3"
  }
 },
 "nbformat": 4,
 "nbformat_minor": 2
}
